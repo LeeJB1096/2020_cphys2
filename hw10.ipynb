{
 "cells": [
  {
   "cell_type": "markdown",
   "metadata": {},
   "source": [
    "IMDB Datasets"
   ]
  },
  {
   "cell_type": "code",
   "execution_count": 83,
   "metadata": {},
   "outputs": [],
   "source": [
    "import numpy as np\n",
    "from tensorflow import keras\n",
    "from keras import models \n",
    "from keras import layers\n",
    "import matplotlib.pyplot as plt\n",
    "\n",
    "from keras.datasets import imdb\n",
    "# https://www.imdb.com/\n",
    "(X, y_train), (X_test, y_test) = imdb.load_data(num_words=10000)"
   ]
  },
  {
   "cell_type": "code",
   "execution_count": 84,
   "metadata": {},
   "outputs": [],
   "source": [
    "\n",
    "# text to vector\n",
    "def vect(seq, dim=10000):\n",
    "    x=np.zeros((len(seq),dim))\n",
    "    for n, i in enumerate(seq):\n",
    "        x[n, i] = 1\n",
    "    return x\n",
    "\n",
    "X_train=vect(X)\n",
    "X_test=vect(X_test)"
   ]
  },
  {
   "cell_type": "code",
   "execution_count": 85,
   "metadata": {},
   "outputs": [
    {
     "data": {
      "text/plain": [
       "array([0., 1., 1., ..., 0., 0., 0.])"
      ]
     },
     "execution_count": 85,
     "metadata": {},
     "output_type": "execute_result"
    }
   ],
   "source": [
    "X_train[0]"
   ]
  },
  {
   "cell_type": "code",
   "execution_count": 86,
   "metadata": {},
   "outputs": [
    {
     "name": "stdout",
     "output_type": "stream",
     "text": [
      "Epoch 1/5\n",
      "118/118 [==============================] - 1s 11ms/step - loss: 0.5777 - acc: 0.7009 - val_loss: 0.3841 - val_acc: 0.8706\n",
      "Epoch 2/5\n",
      "118/118 [==============================] - 1s 7ms/step - loss: 0.3786 - acc: 0.8608 - val_loss: 0.2991 - val_acc: 0.8804\n",
      "Epoch 3/5\n",
      "118/118 [==============================] - 1s 7ms/step - loss: 0.2759 - acc: 0.9017 - val_loss: 0.2782 - val_acc: 0.8863\n",
      "Epoch 4/5\n",
      "118/118 [==============================] - 1s 8ms/step - loss: 0.2238 - acc: 0.9199 - val_loss: 0.3096 - val_acc: 0.8825\n",
      "Epoch 5/5\n",
      "118/118 [==============================] - 1s 7ms/step - loss: 0.1826 - acc: 0.9367 - val_loss: 0.3095 - val_acc: 0.8851\n"
     ]
    }
   ],
   "source": [
    "net = models.Sequential()\n",
    "net.add(layers.Dense(16, activation='relu', input_shape=(10000,)))\n",
    "net.add(layers.Dropout(0.5))\n",
    "net.add(layers.Dense(16, activation='relu'))\n",
    "net.add(layers.Dropout(0.5))\n",
    "net.add(layers.Dense(1, activation='sigmoid'))\n",
    "net.compile(optimizer='nadam', loss='binary_crossentropy', metrics = ['acc'])\n",
    "\n",
    "X_val = X_train[:10000]\n",
    "partial_X_train = X_train[10000:]\n",
    "\n",
    "y_val = y_train[:10000]\n",
    "partial_y_train = y_train[10000:]\n",
    "\n",
    "val = net.fit(partial_X_train, partial_y_train, epochs=5, batch_size=128, validation_data=(X_val, y_val))"
   ]
  },
  {
   "cell_type": "code",
   "execution_count": 87,
   "metadata": {},
   "outputs": [
    {
     "data": {
      "text/plain": [
       "[<matplotlib.lines.Line2D at 0x2409d594a88>]"
      ]
     },
     "execution_count": 87,
     "metadata": {},
     "output_type": "execute_result"
    },
    {
     "data": {
      "image/png": "[encoded data removed]",
      "text/plain": [
       "<Figure size 432x288 with 1 Axes>"
      ]
     },
     "metadata": {
      "needs_background": "light"
     },
     "output_type": "display_data"
    }
   ],
   "source": [
    "val_dict = val.history\n",
    "loss = val_dict['loss']\n",
    "val_loss = val_dict['val_loss']\n",
    "x = np.arange(0,len(loss))\n",
    "\n",
    "plt.plot(x,loss,'-')\n",
    "plt.plot(x,val_loss,'o')"
   ]
  },
  {
   "cell_type": "code",
   "execution_count": 88,
   "metadata": {},
   "outputs": [
    {
     "name": "stdout",
     "output_type": "stream",
     "text": [
      "782/782 [==============================] - 1s 1ms/step - loss: 0.3331 - acc: 0.8746\n"
     ]
    }
   ],
   "source": [
    "\n",
    "test_loss, test_acc = net.evaluate(X_test,y_test)"
   ]
  },
  {
   "cell_type": "markdown",
   "metadata": {},
   "source": [
    "IMDB Classification using simple RNN"
   ]
  },
  {
   "cell_type": "code",
   "execution_count": 89,
   "metadata": {},
   "outputs": [],
   "source": [
    "from keras.preprocessing import sequence\n",
    "\n",
    "max_words=10000 \n",
    "(X_train, y_train), (X_test, y_test) = imdb.load_data(num_words=max_words)\n",
    "\n",
    "maxlen = 100 # sequence length\n",
    "X_train = sequence.pad_sequences(X_train, maxlen=maxlen)\n",
    "X_test = sequence.pad_sequences(X_test, maxlen=maxlen)"
   ]
  },
  {
   "cell_type": "code",
   "execution_count": 90,
   "metadata": {},
   "outputs": [
    {
     "data": {
      "text/plain": [
       "array([1415,   33,    6,   22,   12,  215,   28,   77,   52,    5,   14,\n",
       "        407,   16,   82,    2,    8,    4,  107,  117, 5952,   15,  256,\n",
       "          4,    2,    7, 3766,    5,  723,   36,   71,   43,  530,  476,\n",
       "         26,  400,  317,   46,    7,    4,    2, 1029,   13,  104,   88,\n",
       "          4,  381,   15,  297,   98,   32, 2071,   56,   26,  141,    6,\n",
       "        194, 7486,   18,    4,  226,   22,   21,  134,  476,   26,  480,\n",
       "          5,  144,   30, 5535,   18,   51,   36,   28,  224,   92,   25,\n",
       "        104,    4,  226,   65,   16,   38, 1334,   88,   12,   16,  283,\n",
       "          5,   16, 4472,  113,  103,   32,   15,   16, 5345,   19,  178,\n",
       "         32])"
      ]
     },
     "execution_count": 90,
     "metadata": {},
     "output_type": "execute_result"
    }
   ],
   "source": [
    "X_train[0]"
   ]
  },
  {
   "cell_type": "code",
   "execution_count": 96,
   "metadata": {},
   "outputs": [],
   "source": [
    "rnn = models.Sequential()\n",
    "rnn.add(layers.Embedding(max_words, 16)) # 각각의 단어를 n=16 차원 공간에 올리기\n",
    "rnn.add(layers.SimpleRNN(32,return_sequences='True')) \n",
    "# 다층 RNN를 하기 위해 return_sequences = True로 설정\n",
    "rnn.add(layers.Dropout(0.2))\n",
    "rnn.add(layers.SimpleRNN(16,return_sequences='True'))\n",
    "rnn.add(layers.SimpleRNN(16))\n",
    "rnn.add(layers.Dropout(0.2))\n",
    "rnn.add(layers.Dense(1, activation='sigmoid'))\n",
    "rnn.compile(optimizer='nadam',loss='binary_crossentropy',metrics=['acc'])"
   ]
  },
  {
   "cell_type": "code",
   "execution_count": 97,
   "metadata": {},
   "outputs": [
    {
     "name": "stdout",
     "output_type": "stream",
     "text": [
      "Model: \"sequential_17\"\n",
      "_________________________________________________________________\n",
      "Layer (type)                 Output Shape              Param #   \n",
      "=================================================================\n",
      "embedding_14 (Embedding)     (None, None, 16)          160000    \n",
      "_________________________________________________________________\n",
      "simple_rnn_35 (SimpleRNN)    (None, None, 32)          1568      \n",
      "_________________________________________________________________\n",
      "dropout_28 (Dropout)         (None, None, 32)          0         \n",
      "_________________________________________________________________\n",
      "simple_rnn_36 (SimpleRNN)    (None, None, 16)          784       \n",
      "_________________________________________________________________\n",
      "simple_rnn_37 (SimpleRNN)    (None, 16)                528       \n",
      "_________________________________________________________________\n",
      "dropout_29 (Dropout)         (None, 16)                0         \n",
      "_________________________________________________________________\n",
      "dense_21 (Dense)             (None, 1)                 17        \n",
      "=================================================================\n",
      "Total params: 162,897\n",
      "Trainable params: 162,897\n",
      "Non-trainable params: 0\n",
      "_________________________________________________________________\n"
     ]
    }
   ],
   "source": [
    "rnn.summary()"
   ]
  },
  {
   "cell_type": "code",
   "execution_count": 98,
   "metadata": {},
   "outputs": [
    {
     "name": "stdout",
     "output_type": "stream",
     "text": [
      "Epoch 1/10\n",
      "313/313 [==============================] - 14s 45ms/step - loss: 0.7081 - acc: 0.5083 - val_loss: 0.6881 - val_acc: 0.5404\n",
      "Epoch 2/10\n",
      "313/313 [==============================] - 14s 46ms/step - loss: 0.6070 - acc: 0.6488 - val_loss: 0.4343 - val_acc: 0.8052\n",
      "Epoch 3/10\n",
      "313/313 [==============================] - 14s 45ms/step - loss: 0.3897 - acc: 0.8364 - val_loss: 0.4013 - val_acc: 0.8232\n",
      "Epoch 4/10\n",
      "313/313 [==============================] - 15s 47ms/step - loss: 0.2707 - acc: 0.8970 - val_loss: 0.4306 - val_acc: 0.8274\n",
      "Epoch 5/10\n",
      "313/313 [==============================] - 15s 48ms/step - loss: 0.1810 - acc: 0.9355 - val_loss: 0.7676 - val_acc: 0.7676\n",
      "Epoch 6/10\n",
      "313/313 [==============================] - 14s 45ms/step - loss: 0.1047 - acc: 0.9643 - val_loss: 0.6443 - val_acc: 0.7964\n",
      "Epoch 7/10\n",
      "313/313 [==============================] - 14s 45ms/step - loss: 0.0607 - acc: 0.9818 - val_loss: 0.7070 - val_acc: 0.8112\n",
      "Epoch 8/10\n",
      "313/313 [==============================] - 14s 45ms/step - loss: 0.0452 - acc: 0.9857 - val_loss: 0.7794 - val_acc: 0.8078\n",
      "Epoch 9/10\n",
      "313/313 [==============================] - 14s 45ms/step - loss: 0.0368 - acc: 0.9880 - val_loss: 0.8768 - val_acc: 0.8024\n",
      "Epoch 10/10\n",
      "313/313 [==============================] - 15s 49ms/step - loss: 0.0301 - acc: 0.9915 - val_loss: 0.8846 - val_acc: 0.7848\n"
     ]
    }
   ],
   "source": [
    "history = rnn.fit(X_train, y_train, epochs=10, batch_size=64, validation_split=0.2)"
   ]
  },
  {
   "cell_type": "code",
   "execution_count": 99,
   "metadata": {},
   "outputs": [
    {
     "name": "stdout",
     "output_type": "stream",
     "text": [
      "782/782 [==============================] - 8s 11ms/step - loss: 0.9348 - acc: 0.7780\n"
     ]
    },
    {
     "data": {
      "text/plain": [
       "0.9348078966140747"
      ]
     },
     "execution_count": 99,
     "metadata": {},
     "output_type": "execute_result"
    }
   ],
   "source": [
    "rnn.evaluate(X_test, y_test)[0]"
   ]
  },
  {
   "cell_type": "code",
   "execution_count": 100,
   "metadata": {},
   "outputs": [
    {
     "data": {
      "image/png": "[encoded data removed]",
      "text/plain": [
       "<Figure size 432x288 with 1 Axes>"
      ]
     },
     "metadata": {
      "needs_background": "light"
     },
     "output_type": "display_data"
    }
   ],
   "source": [
    "loss = history.history['loss']\n",
    "val = history.history['val_loss']\n",
    "plt.plot(loss)\n",
    "plt.plot(val,'o')\n",
    "plt.ylabel('loss')\n",
    "plt.xlabel('epoch')\n",
    "plt.legend(['train', 'val'],)\n",
    "plt.show()"
   ]
  },
  {
   "cell_type": "markdown",
   "metadata": {},
   "source": [
    "결과 : IMDB data를 RNN을 사용하여 93.48078966140747 %의 정확도입니다.. "
   ]
  },
  {
   "cell_type": "code",
   "execution_count": null,
   "metadata": {},
   "outputs": [],
   "source": []
  }
 ],
 "metadata": {
  "kernelspec": {
   "display_name": "Python 3",
   "language": "python",
   "name": "python3"
  },
  "language_info": {
   "codemirror_mode": {
    "name": "ipython",
    "version": 3
   },
   "file_extension": ".py",
   "mimetype": "text/x-python",
   "name": "python",
   "nbconvert_exporter": "python",
   "pygments_lexer": "ipython3",
   "version": "3.7.6"
  }
 },
 "nbformat": 4,
 "nbformat_minor": 4
}
