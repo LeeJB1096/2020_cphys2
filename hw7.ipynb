{
 "cells": [
  {
   "cell_type": "code",
   "execution_count": 1,
   "metadata": {},
   "outputs": [],
   "source": [
    "from keras.datasets import mnist\n",
    "from tensorflow import keras\n",
    "from keras import models \n",
    "from keras import layers\n",
    "import numpy as np\n",
    "import matplotlib.pyplot as plt\n",
    "from keras.utils import to_categorical\n",
    "\n",
    "(X, y), (X_test, y_test) = mnist.load_data()\n",
    "y_train=to_categorical(y)\n",
    "y_test=to_categorical(y_test)"
   ]
  },
  {
   "cell_type": "code",
   "execution_count": null,
   "metadata": {},
   "outputs": [],
   "source": []
  },
  {
   "cell_type": "markdown",
   "metadata": {},
   "source": [
    "### MNIST 손글씨 이미지를 다음의 방법으로 분류하고 test data를 이용하여 정확도를 비교하여라.\n",
    "#### 1. Softmax Regression\n",
    "#### 2. Support Vector Machine\n",
    "#### 3. Decision tree or Random forest"
   ]
  },
  {
   "cell_type": "markdown",
   "metadata": {},
   "source": [
    "Softmax Regression"
   ]
  },
  {
   "cell_type": "code",
   "execution_count": 2,
   "metadata": {},
   "outputs": [
    {
     "data": {
      "text/plain": [
       "(60000, 10000)"
      ]
     },
     "execution_count": 2,
     "metadata": {},
     "output_type": "execute_result"
    }
   ],
   "source": [
    "len(X),len(X_test)"
   ]
  },
  {
   "cell_type": "code",
   "execution_count": 3,
   "metadata": {},
   "outputs": [],
   "source": [
    "smax = models.Sequential()\n",
    "smax.add(layers.Dense(10, activation='softmax', input_shape=(28*28,)))\n",
    "smax.compile(optimizer='adam',loss='categorical_crossentropy',metrics=['accuracy'])"
   ]
  },
  {
   "cell_type": "code",
   "execution_count": 4,
   "metadata": {},
   "outputs": [],
   "source": [
    "X_train = X.reshape((60000, 28*28))\n",
    "X_train = X_train/255\n",
    "\n",
    "X_test = X_test.reshape((10000, 28*28))\n",
    "X_test = X_test/255"
   ]
  },
  {
   "cell_type": "code",
   "execution_count": 5,
   "metadata": {},
   "outputs": [
    {
     "name": "stdout",
     "output_type": "stream",
     "text": [
      "Epoch 1/20\n",
      "1875/1875 [==============================] - 2s 804us/step - loss: 0.4660 - accuracy: 0.8798\n",
      "Epoch 2/20\n",
      "1875/1875 [==============================] - 2s 977us/step - loss: 0.3031 - accuracy: 0.9156\n",
      "Epoch 3/20\n",
      "1875/1875 [==============================] - 2s 828us/step - loss: 0.2833 - accuracy: 0.9212\n",
      "Epoch 4/20\n",
      "1875/1875 [==============================] - 1s 779us/step - loss: 0.2726 - accuracy: 0.9235\n",
      "Epoch 5/20\n",
      "1875/1875 [==============================] - 1s 799us/step - loss: 0.2666 - accuracy: 0.9257\n",
      "Epoch 6/20\n",
      "1875/1875 [==============================] - 1s 760us/step - loss: 0.2614 - accuracy: 0.9274\n",
      "Epoch 7/20\n",
      "1875/1875 [==============================] - 1s 800us/step - loss: 0.2585 - accuracy: 0.9290\n",
      "Epoch 8/20\n",
      "1875/1875 [==============================] - 1s 779us/step - loss: 0.2551 - accuracy: 0.9299\n",
      "Epoch 9/20\n",
      "1875/1875 [==============================] - 1s 787us/step - loss: 0.2531 - accuracy: 0.9301\n",
      "Epoch 10/20\n",
      "1875/1875 [==============================] - 1s 773us/step - loss: 0.2509 - accuracy: 0.9305\n",
      "Epoch 11/20\n",
      "1875/1875 [==============================] - 1s 792us/step - loss: 0.2492 - accuracy: 0.9313\n",
      "Epoch 12/20\n",
      "1875/1875 [==============================] - 2s 848us/step - loss: 0.2476 - accuracy: 0.9317\n",
      "Epoch 13/20\n",
      "1875/1875 [==============================] - 2s 987us/step - loss: 0.2461 - accuracy: 0.9321\n",
      "Epoch 14/20\n",
      "1875/1875 [==============================] - 2s 819us/step - loss: 0.2451 - accuracy: 0.9328\n",
      "Epoch 15/20\n",
      "1875/1875 [==============================] - 2s 805us/step - loss: 0.2439 - accuracy: 0.9331\n",
      "Epoch 16/20\n",
      "1875/1875 [==============================] - 1s 782us/step - loss: 0.2428 - accuracy: 0.9335\n",
      "Epoch 17/20\n",
      "1875/1875 [==============================] - 1s 763us/step - loss: 0.2416 - accuracy: 0.9334\n",
      "Epoch 18/20\n",
      "1875/1875 [==============================] - 2s 812us/step - loss: 0.2414 - accuracy: 0.9341\n",
      "Epoch 19/20\n",
      "1875/1875 [==============================] - 1s 753us/step - loss: 0.2400 - accuracy: 0.9344\n",
      "Epoch 20/20\n",
      "1875/1875 [==============================] - 2s 951us/step - loss: 0.2396 - accuracy: 0.9343\n"
     ]
    },
    {
     "data": {
      "text/plain": [
       "<tensorflow.python.keras.callbacks.History at 0x1ed55679d08>"
      ]
     },
     "execution_count": 5,
     "metadata": {},
     "output_type": "execute_result"
    }
   ],
   "source": [
    "smax.fit(X_train, y_train, epochs=20)"
   ]
  },
  {
   "cell_type": "code",
   "execution_count": 6,
   "metadata": {},
   "outputs": [
    {
     "name": "stdout",
     "output_type": "stream",
     "text": [
      "  1/313 [..............................] - ETA: 0s - loss: 0.3369 - accuracy: 0.9688WARNING:tensorflow:Callbacks method `on_test_batch_end` is slow compared to the batch time (batch time: 0.0000s vs `on_test_batch_end` time: 0.0010s). Check your callbacks.\n",
      "313/313 [==============================] - 0s 653us/step - loss: 0.2705 - accuracy: 0.9265\n"
     ]
    },
    {
     "data": {
      "text/plain": [
       "[0.27046579122543335, 0.9265000224113464]"
      ]
     },
     "execution_count": 6,
     "metadata": {},
     "output_type": "execute_result"
    }
   ],
   "source": [
    "smax.evaluate(X_test,y_test)"
   ]
  },
  {
   "cell_type": "code",
   "execution_count": null,
   "metadata": {},
   "outputs": [],
   "source": []
  },
  {
   "cell_type": "markdown",
   "metadata": {},
   "source": [
    "Softmax Regression 정확률 92.65 %"
   ]
  },
  {
   "cell_type": "code",
   "execution_count": null,
   "metadata": {},
   "outputs": [],
   "source": []
  },
  {
   "cell_type": "code",
   "execution_count": null,
   "metadata": {},
   "outputs": [],
   "source": []
  },
  {
   "cell_type": "markdown",
   "metadata": {},
   "source": [
    "Support Vector Machine"
   ]
  },
  {
   "cell_type": "code",
   "execution_count": 7,
   "metadata": {},
   "outputs": [],
   "source": [
    "import numpy as np\n",
    "from sklearn.svm import SVC\n",
    "from sklearn.preprocessing import StandardScaler\n",
    "from sklearn.metrics import accuracy_score\n",
    "scaler = StandardScaler()\n",
    "X_train_scaled = scaler.fit_transform(X_train.astype(np.float32))\n",
    "X_test_scaled = scaler.fit_transform(X_test.astype(np.float32))"
   ]
  },
  {
   "cell_type": "code",
   "execution_count": 8,
   "metadata": {},
   "outputs": [
    {
     "data": {
      "text/plain": [
       "(60000, 60000)"
      ]
     },
     "execution_count": 8,
     "metadata": {},
     "output_type": "execute_result"
    }
   ],
   "source": [
    "len(X_train), len(y)"
   ]
  },
  {
   "cell_type": "code",
   "execution_count": 9,
   "metadata": {},
   "outputs": [
    {
     "data": {
      "text/plain": [
       "SVC(C=1.0, break_ties=False, cache_size=200, class_weight=None, coef0=0.0,\n",
       "    decision_function_shape='ovr', degree=3, gamma='scale', kernel='linear',\n",
       "    max_iter=-1, probability=False, random_state=None, shrinking=True,\n",
       "    tol=0.001, verbose=False)"
      ]
     },
     "execution_count": 9,
     "metadata": {},
     "output_type": "execute_result"
    }
   ],
   "source": [
    "SVC(kernel='linear').fit(X_train, y)"
   ]
  },
  {
   "cell_type": "code",
   "execution_count": 10,
   "metadata": {},
   "outputs": [],
   "source": [
    "from sklearn.preprocessing import StandardScaler\n",
    "from sklearn.svm import SVC\n",
    "\n",
    "scaler = StandardScaler()\n",
    "X_train_scaled = scaler.fit_transform(X_train.astype(np.float32))\n",
    "X_test_scaled = scaler.fit_transform(X_test.astype(np.float32))\n"
   ]
  },
  {
   "cell_type": "code",
   "execution_count": 16,
   "metadata": {},
   "outputs": [
    {
     "name": "stdout",
     "output_type": "stream",
     "text": [
      "Fitting 3 folds for each of 10 candidates, totalling 30 fits\n",
      "[CV] C=1.1610473541255775, gamma=0.0021291808707099764 ...............\n"
     ]
    },
    {
     "name": "stderr",
     "output_type": "stream",
     "text": [
      "[Parallel(n_jobs=1)]: Using backend SequentialBackend with 1 concurrent workers.\n"
     ]
    },
    {
     "name": "stdout",
     "output_type": "stream",
     "text": [
      "[CV]  C=1.1610473541255775, gamma=0.0021291808707099764, total=   0.8s\n",
      "[CV] C=1.1610473541255775, gamma=0.0021291808707099764 ...............\n"
     ]
    },
    {
     "name": "stderr",
     "output_type": "stream",
     "text": [
      "[Parallel(n_jobs=1)]: Done   1 out of   1 | elapsed:    0.7s remaining:    0.0s\n"
     ]
    },
    {
     "name": "stdout",
     "output_type": "stream",
     "text": [
      "[CV]  C=1.1610473541255775, gamma=0.0021291808707099764, total=   0.8s\n",
      "[CV] C=1.1610473541255775, gamma=0.0021291808707099764 ...............\n",
      "[CV]  C=1.1610473541255775, gamma=0.0021291808707099764, total=   0.8s\n",
      "[CV] C=1.3029776147460497, gamma=0.04963569819932568 .................\n",
      "[CV] .. C=1.3029776147460497, gamma=0.04963569819932568, total=   1.0s\n",
      "[CV] C=1.3029776147460497, gamma=0.04963569819932568 .................\n",
      "[CV] .. C=1.3029776147460497, gamma=0.04963569819932568, total=   1.0s\n",
      "[CV] C=1.3029776147460497, gamma=0.04963569819932568 .................\n",
      "[CV] .. C=1.3029776147460497, gamma=0.04963569819932568, total=   1.0s\n",
      "[CV] C=1.5020920730967098, gamma=0.008153575413767208 ................\n",
      "[CV] . C=1.5020920730967098, gamma=0.008153575413767208, total=   1.0s\n",
      "[CV] C=1.5020920730967098, gamma=0.008153575413767208 ................\n",
      "[CV] . C=1.5020920730967098, gamma=0.008153575413767208, total=   1.0s\n",
      "[CV] C=1.5020920730967098, gamma=0.008153575413767208 ................\n",
      "[CV] . C=1.5020920730967098, gamma=0.008153575413767208, total=   1.0s\n",
      "[CV] C=1.2012730940173764, gamma=0.003859407753279967 ................\n",
      "[CV] . C=1.2012730940173764, gamma=0.003859407753279967, total=   1.0s\n",
      "[CV] C=1.2012730940173764, gamma=0.003859407753279967 ................\n",
      "[CV] . C=1.2012730940173764, gamma=0.003859407753279967, total=   0.9s\n",
      "[CV] C=1.2012730940173764, gamma=0.003859407753279967 ................\n",
      "[CV] . C=1.2012730940173764, gamma=0.003859407753279967, total=   1.0s\n",
      "[CV] C=1.1876033953751128, gamma=0.00912067090983576 .................\n",
      "[CV] .. C=1.1876033953751128, gamma=0.00912067090983576, total=   1.0s\n",
      "[CV] C=1.1876033953751128, gamma=0.00912067090983576 .................\n",
      "[CV] .. C=1.1876033953751128, gamma=0.00912067090983576, total=   1.1s\n",
      "[CV] C=1.1876033953751128, gamma=0.00912067090983576 .................\n",
      "[CV] .. C=1.1876033953751128, gamma=0.00912067090983576, total=   1.0s\n",
      "[CV] C=1.2173550240646758, gamma=0.005502409570284161 ................\n",
      "[CV] . C=1.2173550240646758, gamma=0.005502409570284161, total=   1.0s\n",
      "[CV] C=1.2173550240646758, gamma=0.005502409570284161 ................\n",
      "[CV] . C=1.2173550240646758, gamma=0.005502409570284161, total=   1.0s\n",
      "[CV] C=1.2173550240646758, gamma=0.005502409570284161 ................\n",
      "[CV] . C=1.2173550240646758, gamma=0.005502409570284161, total=   1.0s\n",
      "[CV] C=1.8681838352359181, gamma=0.004423120292185333 ................\n",
      "[CV] . C=1.8681838352359181, gamma=0.004423120292185333, total=   1.0s\n",
      "[CV] C=1.8681838352359181, gamma=0.004423120292185333 ................\n",
      "[CV] . C=1.8681838352359181, gamma=0.004423120292185333, total=   1.0s\n",
      "[CV] C=1.8681838352359181, gamma=0.004423120292185333 ................\n",
      "[CV] . C=1.8681838352359181, gamma=0.004423120292185333, total=   1.0s\n",
      "[CV] C=1.629210298465574, gamma=0.004671424014787504 .................\n",
      "[CV] .. C=1.629210298465574, gamma=0.004671424014787504, total=   1.0s\n",
      "[CV] C=1.629210298465574, gamma=0.004671424014787504 .................\n",
      "[CV] .. C=1.629210298465574, gamma=0.004671424014787504, total=   1.0s\n",
      "[CV] C=1.629210298465574, gamma=0.004671424014787504 .................\n",
      "[CV] .. C=1.629210298465574, gamma=0.004671424014787504, total=   1.0s\n",
      "[CV] C=1.8541521296057741, gamma=0.0022994520051065515 ...............\n",
      "[CV]  C=1.8541521296057741, gamma=0.0022994520051065515, total=   0.8s\n",
      "[CV] C=1.8541521296057741, gamma=0.0022994520051065515 ...............\n",
      "[CV]  C=1.8541521296057741, gamma=0.0022994520051065515, total=   0.9s\n",
      "[CV] C=1.8541521296057741, gamma=0.0022994520051065515 ...............\n",
      "[CV]  C=1.8541521296057741, gamma=0.0022994520051065515, total=   0.9s\n",
      "[CV] C=1.7711439401232796, gamma=0.0022197565458961267 ...............\n",
      "[CV]  C=1.7711439401232796, gamma=0.0022197565458961267, total=   0.9s\n",
      "[CV] C=1.7711439401232796, gamma=0.0022197565458961267 ...............\n",
      "[CV]  C=1.7711439401232796, gamma=0.0022197565458961267, total=   0.9s\n",
      "[CV] C=1.7711439401232796, gamma=0.0022197565458961267 ...............\n",
      "[CV]  C=1.7711439401232796, gamma=0.0022197565458961267, total=   0.8s\n"
     ]
    },
    {
     "name": "stderr",
     "output_type": "stream",
     "text": [
      "[Parallel(n_jobs=1)]: Done  30 out of  30 | elapsed:   28.6s finished\n"
     ]
    },
    {
     "data": {
      "text/plain": [
       "RandomizedSearchCV(cv=3, error_score=nan,\n",
       "                   estimator=SVC(C=1.0, break_ties=False, cache_size=200,\n",
       "                                 class_weight=None, coef0=0.0,\n",
       "                                 decision_function_shape='ovr', degree=3,\n",
       "                                 gamma='auto', kernel='rbf', max_iter=-1,\n",
       "                                 probability=False, random_state=None,\n",
       "                                 shrinking=True, tol=0.001, verbose=False),\n",
       "                   iid='deprecated', n_iter=10, n_jobs=None,\n",
       "                   param_distributions={'C': <scipy.stats._distn_infrastructure.rv_frozen object at 0x000001ED011D09C8>,\n",
       "                                        'gamma': <scipy.stats._distn_infrastructure.rv_frozen object at 0x000001ED011D0608>},\n",
       "                   pre_dispatch='2*n_jobs', random_state=None, refit=True,\n",
       "                   return_train_score=False, scoring=None, verbose=2)"
      ]
     },
     "execution_count": 16,
     "metadata": {},
     "output_type": "execute_result"
    }
   ],
   "source": [
    "from sklearn.model_selection import RandomizedSearchCV\n",
    "from scipy.stats import reciprocal, uniform\n",
    "\n",
    "svm_clf = SVC(decision_function_shape=\"ovr\", gamma='auto')\n",
    "param_distributions = {\"gamma\": reciprocal(0.001, 0.1), \"C\":uniform(1.10)}\n",
    "rnd_search_cv = RandomizedSearchCV(svm_clf, param_distributions, n_iter=10,verbose=2, cv=3)\n",
    "rnd_search_cv.fit(X_train_scaled[:1000],y[:1000])"
   ]
  },
  {
   "cell_type": "code",
   "execution_count": 17,
   "metadata": {},
   "outputs": [
    {
     "data": {
      "text/plain": [
       "SVC(C=1.8541521296057741, break_ties=False, cache_size=200, class_weight=None,\n",
       "    coef0=0.0, decision_function_shape='ovr', degree=3,\n",
       "    gamma=0.0022994520051065515, kernel='rbf', max_iter=-1, probability=False,\n",
       "    random_state=None, shrinking=True, tol=0.001, verbose=False)"
      ]
     },
     "execution_count": 17,
     "metadata": {},
     "output_type": "execute_result"
    }
   ],
   "source": [
    "rnd_search_cv.best_estimator_"
   ]
  },
  {
   "cell_type": "code",
   "execution_count": 20,
   "metadata": {},
   "outputs": [
    {
     "data": {
      "text/plain": [
       "0.8509797222372072"
      ]
     },
     "execution_count": 20,
     "metadata": {},
     "output_type": "execute_result"
    }
   ],
   "source": [
    "rnd_search_cv.best_score_"
   ]
  },
  {
   "cell_type": "code",
   "execution_count": null,
   "metadata": {},
   "outputs": [],
   "source": []
  },
  {
   "cell_type": "markdown",
   "metadata": {},
   "source": [
    "Support Vector Machine 정확률  85 %"
   ]
  },
  {
   "cell_type": "code",
   "execution_count": null,
   "metadata": {},
   "outputs": [],
   "source": []
  },
  {
   "cell_type": "markdown",
   "metadata": {},
   "source": [
    "Decision tree or Random forest"
   ]
  },
  {
   "cell_type": "code",
   "execution_count": 68,
   "metadata": {},
   "outputs": [
    {
     "data": {
      "text/plain": [
       "RandomForestClassifier(bootstrap=True, ccp_alpha=0.0, class_weight=None,\n",
       "                       criterion='gini', max_depth=None, max_features='auto',\n",
       "                       max_leaf_nodes=None, max_samples=None,\n",
       "                       min_impurity_decrease=0.0, min_impurity_split=None,\n",
       "                       min_samples_leaf=1, min_samples_split=2,\n",
       "                       min_weight_fraction_leaf=0.0, n_estimators=100,\n",
       "                       n_jobs=None, oob_score=False, random_state=None,\n",
       "                       verbose=0, warm_start=False)"
      ]
     },
     "execution_count": 68,
     "metadata": {},
     "output_type": "execute_result"
    }
   ],
   "source": [
    "from sklearn.ensemble import RandomForestClassifier\n",
    "\n",
    "clf = RandomForestClassifier()\n",
    "clf.fit(X_train, y_train)"
   ]
  },
  {
   "cell_type": "code",
   "execution_count": 69,
   "metadata": {},
   "outputs": [
    {
     "data": {
      "text/plain": [
       "array([0.8818 , 0.8773 , 0.88645])"
      ]
     },
     "execution_count": 69,
     "metadata": {},
     "output_type": "execute_result"
    }
   ],
   "source": [
    "from sklearn.model_selection import cross_val_score\n",
    "\n",
    "cross_val_score(clf, X_train, y_train, cv=3, scoring=\"accuracy\")"
   ]
  },
  {
   "cell_type": "code",
   "execution_count": null,
   "metadata": {},
   "outputs": [],
   "source": []
  },
  {
   "cell_type": "markdown",
   "metadata": {},
   "source": [
    "Decision tree or Random forest  정확도 88.66 %"
   ]
  }
 ],
 "metadata": {
  "kernelspec": {
   "display_name": "Python 3",
   "language": "python",
   "name": "python3"
  },
  "language_info": {
   "codemirror_mode": {
    "name": "ipython",
    "version": 3
   },
   "file_extension": ".py",
   "mimetype": "text/x-python",
   "name": "python",
   "nbconvert_exporter": "python",
   "pygments_lexer": "ipython3",
   "version": "3.7.6"
  }
 },
 "nbformat": 4,
 "nbformat_minor": 4
}
