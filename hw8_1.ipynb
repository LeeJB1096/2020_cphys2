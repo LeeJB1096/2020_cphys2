{
 "cells": [
  {
   "cell_type": "markdown",
   "metadata": {},
   "source": [
    "### 1. MNIST Digits\n",
    "\n",
    "MNIST 손글씨 이미지를 딥러닝을 이용하여 분류하시오."
   ]
  },
  {
   "cell_type": "code",
   "execution_count": 64,
   "metadata": {},
   "outputs": [],
   "source": [
    "from keras.datasets import mnist\n",
    "from tensorflow import keras\n",
    "from keras import models \n",
    "from keras import layers\n",
    "import numpy as np\n",
    "import matplotlib.pyplot as plt\n",
    "from keras.utils import to_categorical\n",
    "\n",
    "(X, y), (X_test, y_test) = mnist.load_data()\n",
    "(X1, y1), (X1_test, y1_test) = mnist.load_data()"
   ]
  },
  {
   "cell_type": "code",
   "execution_count": 65,
   "metadata": {},
   "outputs": [],
   "source": [
    "(X, y), (X_test, y_test) = mnist.load_data()\n",
    "y=to_categorical(y)\n",
    "y_test=to_categorical(y_test)\n",
    "\n",
    "net = models.Sequential()\n",
    "net.add(layers.Dense(512, activation='relu', input_shape=(28*28,))) \n",
    "net.add(layers.Dense(512, activation='relu')) \n",
    "net.add(layers.Dense(512, activation='relu')) \n",
    "net.add(layers.Dense(10, activation='softmax')) \n",
    "net.compile(optimizer='nadam',loss='categorical_crossentropy',metrics=['acc'])\n",
    "\n",
    "# preprocessing\n",
    "X = X.reshape((60000, 28*28))\n",
    "X = X/255\n",
    "\n",
    "X_test = X_test.reshape((10000, 28*28))\n",
    "X_test = X_test/255"
   ]
  },
  {
   "cell_type": "code",
   "execution_count": 66,
   "metadata": {},
   "outputs": [
    {
     "data": {
      "text/plain": [
       "((60000, 784), (10000, 784), (60000, 10), (10000, 10))"
      ]
     },
     "execution_count": 66,
     "metadata": {},
     "output_type": "execute_result"
    }
   ],
   "source": [
    "X.shape, X_test.shape, y.shape, y_test.shape"
   ]
  },
  {
   "cell_type": "code",
   "execution_count": 67,
   "metadata": {},
   "outputs": [
    {
     "name": "stdout",
     "output_type": "stream",
     "text": [
      "Model: \"sequential_9\"\n",
      "_________________________________________________________________\n",
      "Layer (type)                 Output Shape              Param #   \n",
      "=================================================================\n",
      "dense_34 (Dense)             (None, 512)               401920    \n",
      "_________________________________________________________________\n",
      "dense_35 (Dense)             (None, 512)               262656    \n",
      "_________________________________________________________________\n",
      "dense_36 (Dense)             (None, 512)               262656    \n",
      "_________________________________________________________________\n",
      "dense_37 (Dense)             (None, 10)                5130      \n",
      "=================================================================\n",
      "Total params: 932,362\n",
      "Trainable params: 932,362\n",
      "Non-trainable params: 0\n",
      "_________________________________________________________________\n"
     ]
    }
   ],
   "source": [
    "net.summary()"
   ]
  },
  {
   "cell_type": "code",
   "execution_count": 68,
   "metadata": {},
   "outputs": [
    {
     "name": "stdout",
     "output_type": "stream",
     "text": [
      "469/469 [==============================] - 10s 21ms/step - loss: 0.2101 - acc: 0.9350\n"
     ]
    },
    {
     "data": {
      "text/plain": [
       "<tensorflow.python.keras.callbacks.History at 0x23b9ab472c8>"
      ]
     },
     "execution_count": 68,
     "metadata": {},
     "output_type": "execute_result"
    }
   ],
   "source": [
    "net.fit(X, y, epochs=1, batch_size=128)"
   ]
  },
  {
   "cell_type": "code",
   "execution_count": 69,
   "metadata": {},
   "outputs": [
    {
     "name": "stdout",
     "output_type": "stream",
     "text": [
      "313/313 [==============================] - 1s 3ms/step - loss: 0.0987 - acc: 0.9689\n"
     ]
    }
   ],
   "source": [
    "test_loss, test_acc = net.evaluate(X_test,y_test)"
   ]
  },
  {
   "cell_type": "code",
   "execution_count": 70,
   "metadata": {},
   "outputs": [],
   "source": [
    "X_val = X[:10000]\n",
    "partial_X = X[10000:]\n",
    "\n",
    "y_val = y[:10000]\n",
    "partial_y = y[10000:]"
   ]
  },
  {
   "cell_type": "code",
   "execution_count": 43,
   "metadata": {},
   "outputs": [
    {
     "name": "stdout",
     "output_type": "stream",
     "text": [
      "Epoch 1/20\n",
      "391/391 [==============================] - 9s 23ms/step - loss: 0.0765 - acc: 0.9757 - val_loss: 0.1086 - val_acc: 0.9639\n",
      "Epoch 2/20\n",
      "391/391 [==============================] - 9s 23ms/step - loss: 0.0517 - acc: 0.9836 - val_loss: 0.0730 - val_acc: 0.9781\n",
      "Epoch 3/20\n",
      "391/391 [==============================] - 9s 24ms/step - loss: 0.0373 - acc: 0.9879 - val_loss: 0.0632 - val_acc: 0.9797\n",
      "Epoch 4/20\n",
      "391/391 [==============================] - 9s 23ms/step - loss: 0.0284 - acc: 0.9903 - val_loss: 0.0768 - val_acc: 0.9787\n",
      "Epoch 5/20\n",
      "391/391 [==============================] - 8s 22ms/step - loss: 0.0260 - acc: 0.9914 - val_loss: 0.0699 - val_acc: 0.9807\n",
      "Epoch 6/20\n",
      "391/391 [==============================] - 9s 23ms/step - loss: 0.0201 - acc: 0.9932 - val_loss: 0.0848 - val_acc: 0.9787\n",
      "Epoch 7/20\n",
      "391/391 [==============================] - 9s 22ms/step - loss: 0.0194 - acc: 0.9938 - val_loss: 0.0692 - val_acc: 0.9827\n",
      "Epoch 8/20\n",
      "391/391 [==============================] - 10s 24ms/step - loss: 0.0168 - acc: 0.9945 - val_loss: 0.0783 - val_acc: 0.9808\n",
      "Epoch 9/20\n",
      "391/391 [==============================] - 10s 25ms/step - loss: 0.0187 - acc: 0.9940 - val_loss: 0.0997 - val_acc: 0.9780\n",
      "Epoch 10/20\n",
      "391/391 [==============================] - 9s 22ms/step - loss: 0.0152 - acc: 0.9950 - val_loss: 0.0770 - val_acc: 0.9823\n",
      "Epoch 11/20\n",
      "391/391 [==============================] - 8s 21ms/step - loss: 0.0165 - acc: 0.9945 - val_loss: 0.0873 - val_acc: 0.9808\n",
      "Epoch 12/20\n",
      "391/391 [==============================] - 9s 23ms/step - loss: 0.0119 - acc: 0.9962 - val_loss: 0.0919 - val_acc: 0.9816\n",
      "Epoch 13/20\n",
      "391/391 [==============================] - 9s 23ms/step - loss: 0.0136 - acc: 0.9960 - val_loss: 0.0760 - val_acc: 0.9825\n",
      "Epoch 14/20\n",
      "391/391 [==============================] - 9s 23ms/step - loss: 0.0104 - acc: 0.9966 - val_loss: 0.1151 - val_acc: 0.9785\n",
      "Epoch 15/20\n",
      "391/391 [==============================] - 9s 23ms/step - loss: 0.0096 - acc: 0.9971 - val_loss: 0.0917 - val_acc: 0.9822\n",
      "Epoch 16/20\n",
      "391/391 [==============================] - 10s 25ms/step - loss: 0.0144 - acc: 0.9959 - val_loss: 0.0836 - val_acc: 0.9822\n",
      "Epoch 17/20\n",
      "391/391 [==============================] - 9s 23ms/step - loss: 0.0100 - acc: 0.9969 - val_loss: 0.0863 - val_acc: 0.9826\n",
      "Epoch 18/20\n",
      "391/391 [==============================] - 9s 24ms/step - loss: 0.0093 - acc: 0.9970 - val_loss: 0.1136 - val_acc: 0.9786\n",
      "Epoch 19/20\n",
      "391/391 [==============================] - 9s 23ms/step - loss: 0.0098 - acc: 0.9968 - val_loss: 0.1030 - val_acc: 0.9808\n",
      "Epoch 20/20\n",
      "391/391 [==============================] - 9s 23ms/step - loss: 0.0083 - acc: 0.9977 - val_loss: 0.0862 - val_acc: 0.9810\n"
     ]
    }
   ],
   "source": [
    "val = net.fit(partial_X,partial_y,epochs=20, batch_size=128, validation_data=(X_val, y_val))"
   ]
  },
  {
   "cell_type": "code",
   "execution_count": 44,
   "metadata": {},
   "outputs": [],
   "source": [
    "val_dict = val.history\n",
    "loss = val_dict['loss']\n",
    "val_loss = val_dict['val_loss']"
   ]
  },
  {
   "cell_type": "code",
   "execution_count": 45,
   "metadata": {},
   "outputs": [
    {
     "data": {
      "text/plain": [
       "<matplotlib.legend.Legend at 0x23b9aa9f1c8>"
      ]
     },
     "execution_count": 45,
     "metadata": {},
     "output_type": "execute_result"
    },
    {
     "data": {
      "image/png": "[encoded data removed]",
      "text/plain": [
       "<Figure size 432x288 with 1 Axes>"
      ]
     },
     "metadata": {
      "needs_background": "light"
     },
     "output_type": "display_data"
    }
   ],
   "source": [
    "x = np.arange(0,len(loss))\n",
    "plt.plot(x,loss,'bo',label='E')\n",
    "plt.plot(x,val_loss,'ro',label='$E_v$')\n",
    "plt.legend()"
   ]
  },
  {
   "cell_type": "code",
   "execution_count": 46,
   "metadata": {},
   "outputs": [
    {
     "data": {
      "text/plain": [
       "[<matplotlib.lines.Line2D at 0x23b9add5408>]"
      ]
     },
     "execution_count": 46,
     "metadata": {},
     "output_type": "execute_result"
    },
    {
     "data": {
      "image/png": "[encoded data removed]",
      "text/plain": [
       "<Figure size 432x288 with 1 Axes>"
      ]
     },
     "metadata": {
      "needs_background": "light"
     },
     "output_type": "display_data"
    }
   ],
   "source": [
    "acc = val_dict['acc']\n",
    "val_acc = val_dict['val_acc']\n",
    "plt.plot(x,acc,'bo',label='Accuracy')\n",
    "plt.plot(x,val_acc,'ro',label='A_v')"
   ]
  },
  {
   "cell_type": "code",
   "execution_count": null,
   "metadata": {},
   "outputs": [],
   "source": []
  },
  {
   "cell_type": "code",
   "execution_count": 47,
   "metadata": {},
   "outputs": [],
   "source": [
    "model = models.Sequential()\n",
    "model.add(layers.Dense(512, activation='relu', input_shape=(28*28,))) \n",
    "model.add(layers.Dropout(0.5))  \n",
    "model.add(layers.Dense(512, activation='relu')) \n",
    "model.add(layers.Dropout(0.5))  \n",
    "model.add(layers.Dense(10, activation='softmax')) \n",
    "model.compile(optimizer='nadam',loss='categorical_crossentropy',metrics=['acc'])"
   ]
  },
  {
   "cell_type": "code",
   "execution_count": 48,
   "metadata": {},
   "outputs": [
    {
     "name": "stdout",
     "output_type": "stream",
     "text": [
      "Epoch 1/20\n",
      "391/391 [==============================] - 7s 19ms/step - loss: 0.3799 - acc: 0.8836 - val_loss: 0.1343 - val_acc: 0.9593\n",
      "Epoch 2/20\n",
      "391/391 [==============================] - 7s 18ms/step - loss: 0.1711 - acc: 0.9484 - val_loss: 0.1054 - val_acc: 0.9676\n",
      "Epoch 3/20\n",
      "391/391 [==============================] - 7s 18ms/step - loss: 0.1335 - acc: 0.9593 - val_loss: 0.0910 - val_acc: 0.9723\n",
      "Epoch 4/20\n",
      "391/391 [==============================] - 7s 18ms/step - loss: 0.1115 - acc: 0.9645 - val_loss: 0.0815 - val_acc: 0.9758\n",
      "Epoch 5/20\n",
      "391/391 [==============================] - 6s 17ms/step - loss: 0.0970 - acc: 0.9692 - val_loss: 0.0806 - val_acc: 0.9753\n",
      "Epoch 6/20\n",
      "391/391 [==============================] - 8s 20ms/step - loss: 0.0883 - acc: 0.9724 - val_loss: 0.0735 - val_acc: 0.9778\n",
      "Epoch 7/20\n",
      "391/391 [==============================] - 8s 19ms/step - loss: 0.0789 - acc: 0.9745 - val_loss: 0.0689 - val_acc: 0.9791\n",
      "Epoch 8/20\n",
      "391/391 [==============================] - 8s 20ms/step - loss: 0.0731 - acc: 0.9763 - val_loss: 0.0711 - val_acc: 0.9789\n",
      "Epoch 9/20\n",
      "391/391 [==============================] - 7s 18ms/step - loss: 0.0717 - acc: 0.9769 - val_loss: 0.0712 - val_acc: 0.9808\n",
      "Epoch 10/20\n",
      "391/391 [==============================] - 7s 18ms/step - loss: 0.0676 - acc: 0.9778 - val_loss: 0.0647 - val_acc: 0.9814\n",
      "Epoch 11/20\n",
      "391/391 [==============================] - 6s 16ms/step - loss: 0.0609 - acc: 0.9794 - val_loss: 0.0711 - val_acc: 0.9810\n",
      "Epoch 12/20\n",
      "391/391 [==============================] - 6s 16ms/step - loss: 0.0582 - acc: 0.9816 - val_loss: 0.0694 - val_acc: 0.9808\n",
      "Epoch 13/20\n",
      "391/391 [==============================] - 7s 18ms/step - loss: 0.0576 - acc: 0.9812 - val_loss: 0.0627 - val_acc: 0.9821\n",
      "Epoch 14/20\n",
      "391/391 [==============================] - 6s 17ms/step - loss: 0.0565 - acc: 0.9816 - val_loss: 0.0674 - val_acc: 0.9808\n",
      "Epoch 15/20\n",
      "391/391 [==============================] - 7s 17ms/step - loss: 0.0491 - acc: 0.9835 - val_loss: 0.0649 - val_acc: 0.9826\n",
      "Epoch 16/20\n",
      "391/391 [==============================] - 7s 18ms/step - loss: 0.0494 - acc: 0.9840 - val_loss: 0.0705 - val_acc: 0.9793\n",
      "Epoch 17/20\n",
      "391/391 [==============================] - 7s 18ms/step - loss: 0.0483 - acc: 0.9841 - val_loss: 0.0642 - val_acc: 0.9824\n",
      "Epoch 18/20\n",
      "391/391 [==============================] - 7s 17ms/step - loss: 0.0488 - acc: 0.9844 - val_loss: 0.0649 - val_acc: 0.9837\n",
      "Epoch 19/20\n",
      "391/391 [==============================] - 7s 17ms/step - loss: 0.0461 - acc: 0.9848 - val_loss: 0.0717 - val_acc: 0.9801\n",
      "Epoch 20/20\n",
      "391/391 [==============================] - 7s 17ms/step - loss: 0.0439 - acc: 0.9854 - val_loss: 0.0662 - val_acc: 0.9831\n"
     ]
    }
   ],
   "source": [
    "val2= model.fit(partial_X,partial_y,epochs=20, batch_size=128, validation_data=(X_val, y_val))"
   ]
  },
  {
   "cell_type": "code",
   "execution_count": 49,
   "metadata": {},
   "outputs": [
    {
     "data": {
      "text/plain": [
       "<matplotlib.legend.Legend at 0x23b9afafe08>"
      ]
     },
     "execution_count": 49,
     "metadata": {},
     "output_type": "execute_result"
    },
    {
     "data": {
      "image/png": "[encoded data removed]",
      "text/plain": [
       "<Figure size 432x288 with 1 Axes>"
      ]
     },
     "metadata": {
      "needs_background": "light"
     },
     "output_type": "display_data"
    }
   ],
   "source": [
    "val_dict = val2.history\n",
    "loss = val_dict['loss']\n",
    "val_loss = val_dict['val_loss']\n",
    "\n",
    "x = np.arange(0,len(loss))\n",
    "plt.plot(x,loss,'bo',label='E')\n",
    "plt.plot(x,val_loss,'ro',label='$E_v$')\n",
    "plt.legend()"
   ]
  },
  {
   "cell_type": "code",
   "execution_count": 50,
   "metadata": {},
   "outputs": [
    {
     "data": {
      "text/plain": [
       "[<matplotlib.lines.Line2D at 0x23b9e6d6188>]"
      ]
     },
     "execution_count": 50,
     "metadata": {},
     "output_type": "execute_result"
    },
    {
     "data": {
      "image/png": "[encoded data removed]",
      "text/plain": [
       "<Figure size 432x288 with 1 Axes>"
      ]
     },
     "metadata": {
      "needs_background": "light"
     },
     "output_type": "display_data"
    }
   ],
   "source": [
    "acc = val_dict['acc']\n",
    "val_acc = val_dict['val_acc']\n",
    "plt.plot(x,acc,'bo',label='Accuracy')\n",
    "plt.plot(x,val_acc,'ro',label='A_v')"
   ]
  },
  {
   "cell_type": "code",
   "execution_count": 51,
   "metadata": {},
   "outputs": [
    {
     "name": "stdout",
     "output_type": "stream",
     "text": [
      "313/313 [==============================] - 1s 3ms/step - loss: 0.1040 - acc: 0.9789\n"
     ]
    }
   ],
   "source": [
    "test_loss, test_acc = net.evaluate(X_test,y_test)"
   ]
  },
  {
   "cell_type": "code",
   "execution_count": 52,
   "metadata": {},
   "outputs": [
    {
     "name": "stdout",
     "output_type": "stream",
     "text": [
      "313/313 [==============================] - 1s 2ms/step - loss: 0.0628 - acc: 0.9835\n"
     ]
    }
   ],
   "source": [
    "test_loss, test_acc = model.evaluate(X_test,y_test)"
   ]
  },
  {
   "cell_type": "code",
   "execution_count": 76,
   "metadata": {},
   "outputs": [
    {
     "data": {
      "text/plain": [
       "<matplotlib.image.AxesImage at 0x23b9f16b9c8>"
      ]
     },
     "execution_count": 76,
     "metadata": {},
     "output_type": "execute_result"
    },
    {
     "data": {
      "image/png": "[encoded data removed]",
      "text/plain": [
       "<Figure size 432x288 with 1 Axes>"
      ]
     },
     "metadata": {
      "needs_background": "light"
     },
     "output_type": "display_data"
    }
   ],
   "source": [
    "plt.imshow(X1_test[29])"
   ]
  },
  {
   "cell_type": "code",
   "execution_count": 77,
   "metadata": {},
   "outputs": [
    {
     "data": {
      "text/plain": [
       "1"
      ]
     },
     "execution_count": 77,
     "metadata": {},
     "output_type": "execute_result"
    }
   ],
   "source": [
    "np.argmax(net.predict(X_test)[29])"
   ]
  },
  {
   "cell_type": "markdown",
   "metadata": {},
   "source": [
    "결론 : Accuracy가 0.935로 높은 수치임을 확인 할 수있습니다   MNIST가 dropout 할 경우 loss가 0.04 줄었으며 Accuracy가 0.0046 높아 진것을 확인 할 수있습니다."
   ]
  },
  {
   "cell_type": "code",
   "execution_count": null,
   "metadata": {},
   "outputs": [],
   "source": []
  }
 ],
 "metadata": {
  "kernelspec": {
   "display_name": "Python 3",
   "language": "python",
   "name": "python3"
  },
  "language_info": {
   "codemirror_mode": {
    "name": "ipython",
    "version": 3
   },
   "file_extension": ".py",
   "mimetype": "text/x-python",
   "name": "python",
   "nbconvert_exporter": "python",
   "pygments_lexer": "ipython3",
   "version": "3.7.6"
  }
 },
 "nbformat": 4,
 "nbformat_minor": 4
}
