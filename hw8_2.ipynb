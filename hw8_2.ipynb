{
 "cells": [
  {
   "cell_type": "markdown",
   "metadata": {},
   "source": [
    "### Fashin MNIST\n",
    "MNIST 패션 이미지를 딥러닝을 이용하여 분류하시오."
   ]
  },
  {
   "cell_type": "code",
   "execution_count": 85,
   "metadata": {},
   "outputs": [],
   "source": [
    "from keras.datasets import mnist\n",
    "from tensorflow import keras\n",
    "from keras import models \n",
    "from keras import layers\n",
    "import numpy as np\n",
    "import matplotlib.pyplot as plt\n",
    "from keras.utils import to_categorical\n",
    "from keras.datasets import fashion_mnist\n",
    "\n",
    "(X, y), (X_test, y_test) = fashion_mnist.load_data()\n",
    "(X1, y1), (X1_test, y1_test) = fashion_mnist.load_data()"
   ]
  },
  {
   "cell_type": "code",
   "execution_count": 86,
   "metadata": {},
   "outputs": [
    {
     "data": {
      "text/plain": [
       "(60000, 28, 28)"
      ]
     },
     "execution_count": 86,
     "metadata": {},
     "output_type": "execute_result"
    }
   ],
   "source": [
    "X.shape"
   ]
  },
  {
   "cell_type": "code",
   "execution_count": 87,
   "metadata": {},
   "outputs": [
    {
     "data": {
      "text/plain": [
       "(9, <matplotlib.image.AxesImage at 0x1b73c31bac8>)"
      ]
     },
     "execution_count": 87,
     "metadata": {},
     "output_type": "execute_result"
    },
    {
     "data": {
      "image/png": "[encoded data removed]",
      "text/plain": [
       "<Figure size 432x288 with 1 Axes>"
      ]
     },
     "metadata": {
      "needs_background": "light"
     },
     "output_type": "display_data"
    }
   ],
   "source": [
    "y[0], plt.imshow(X[0],cmap=plt.cm.binary) # Ankle boot"
   ]
  },
  {
   "cell_type": "code",
   "execution_count": 88,
   "metadata": {},
   "outputs": [
    {
     "data": {
      "text/plain": [
       "(0, <matplotlib.image.AxesImage at 0x1b73c04ca08>)"
      ]
     },
     "execution_count": 88,
     "metadata": {},
     "output_type": "execute_result"
    },
    {
     "data": {
      "image/png": "[encoded data removed]",
      "text/plain": [
       "<Figure size 432x288 with 1 Axes>"
      ]
     },
     "metadata": {
      "needs_background": "light"
     },
     "output_type": "display_data"
    }
   ],
   "source": [
    "y[1], plt.imshow(X[1],cmap=plt.cm.binary) # T-shirt"
   ]
  },
  {
   "cell_type": "markdown",
   "metadata": {},
   "source": [
    "손글씨 데이터 분류처럼 패션 데이터를 딥러닝을 이용하여 분류하시오."
   ]
  },
  {
   "cell_type": "code",
   "execution_count": 89,
   "metadata": {},
   "outputs": [],
   "source": [
    "\n",
    "y=to_categorical(y)\n",
    "y_test=to_categorical(y_test)\n",
    "\n",
    "net = models.Sequential()\n",
    "net.add(layers.Dense(512, activation='relu', input_shape=(28*28,))) \n",
    "net.add(layers.Dense(512, activation='relu')) \n",
    "net.add(layers.Dense(10, activation='softmax')) \n",
    "net.compile(optimizer='nadam',loss='categorical_crossentropy',metrics=['acc'])\n",
    "\n",
    "# preprocessing\n",
    "X = X.reshape((60000, 28*28))\n",
    "X = X/255\n",
    "\n",
    "X_test = X_test.reshape((10000, 28*28))\n",
    "X_test = X_test/255"
   ]
  },
  {
   "cell_type": "code",
   "execution_count": 90,
   "metadata": {},
   "outputs": [
    {
     "name": "stdout",
     "output_type": "stream",
     "text": [
      "Model: \"sequential_8\"\n",
      "_________________________________________________________________\n",
      "Layer (type)                 Output Shape              Param #   \n",
      "=================================================================\n",
      "dense_30 (Dense)             (None, 512)               401920    \n",
      "_________________________________________________________________\n",
      "dense_31 (Dense)             (None, 512)               262656    \n",
      "_________________________________________________________________\n",
      "dense_32 (Dense)             (None, 10)                5130      \n",
      "=================================================================\n",
      "Total params: 669,706\n",
      "Trainable params: 669,706\n",
      "Non-trainable params: 0\n",
      "_________________________________________________________________\n"
     ]
    }
   ],
   "source": [
    "net.summary()"
   ]
  },
  {
   "cell_type": "code",
   "execution_count": 91,
   "metadata": {},
   "outputs": [
    {
     "name": "stdout",
     "output_type": "stream",
     "text": [
      "469/469 [==============================] - 7s 16ms/step - loss: 0.4876 - acc: 0.8248\n"
     ]
    },
    {
     "data": {
      "text/plain": [
       "<tensorflow.python.keras.callbacks.History at 0x1b73c0b9188>"
      ]
     },
     "execution_count": 91,
     "metadata": {},
     "output_type": "execute_result"
    }
   ],
   "source": [
    "net.fit(X, y, epochs=1, batch_size=128)"
   ]
  },
  {
   "cell_type": "code",
   "execution_count": 92,
   "metadata": {},
   "outputs": [
    {
     "name": "stdout",
     "output_type": "stream",
     "text": [
      "313/313 [==============================] - 1s 3ms/step - loss: 0.4015 - acc: 0.8498\n"
     ]
    }
   ],
   "source": [
    "test_loss, test_acc = net.evaluate(X_test,y_test)"
   ]
  },
  {
   "cell_type": "code",
   "execution_count": 93,
   "metadata": {},
   "outputs": [
    {
     "data": {
      "text/plain": [
       "(60000, 784)"
      ]
     },
     "execution_count": 93,
     "metadata": {},
     "output_type": "execute_result"
    }
   ],
   "source": [
    "X.shape"
   ]
  },
  {
   "cell_type": "code",
   "execution_count": 94,
   "metadata": {},
   "outputs": [],
   "source": [
    "X_val = X[:10000]\n",
    "partial_X = X[10000:]\n",
    "\n",
    "y_val = y[:10000]\n",
    "partial_y = y[10000:]"
   ]
  },
  {
   "cell_type": "code",
   "execution_count": 95,
   "metadata": {},
   "outputs": [
    {
     "name": "stdout",
     "output_type": "stream",
     "text": [
      "Epoch 1/20\n",
      "391/391 [==============================] - 6s 16ms/step - loss: 0.3436 - acc: 0.8730 - val_loss: 0.3178 - val_acc: 0.8827A: 0s - loss: 0.3458 \n",
      "Epoch 2/20\n",
      "391/391 [==============================] - 6s 16ms/step - loss: 0.3061 - acc: 0.8862 - val_loss: 0.3094 - val_acc: 0.8838\n",
      "Epoch 3/20\n",
      "391/391 [==============================] - 6s 16ms/step - loss: 0.2788 - acc: 0.8966 - val_loss: 0.3051 - val_acc: 0.8861\n",
      "Epoch 4/20\n",
      "391/391 [==============================] - 6s 16ms/step - loss: 0.2595 - acc: 0.9037 - val_loss: 0.3206 - val_acc: 0.8818\n",
      "Epoch 5/20\n",
      "391/391 [==============================] - 6s 17ms/step - loss: 0.2418 - acc: 0.9086 - val_loss: 0.3066 - val_acc: 0.8881\n",
      "Epoch 6/20\n",
      "391/391 [==============================] - 6s 16ms/step - loss: 0.2277 - acc: 0.9139 - val_loss: 0.2933 - val_acc: 0.8903\n",
      "Epoch 7/20\n",
      "391/391 [==============================] - 6s 16ms/step - loss: 0.2143 - acc: 0.9185 - val_loss: 0.2960 - val_acc: 0.8910\n",
      "Epoch 8/20\n",
      "391/391 [==============================] - 7s 18ms/step - loss: 0.2029 - acc: 0.9231 - val_loss: 0.2841 - val_acc: 0.8957\n",
      "Epoch 9/20\n",
      "391/391 [==============================] - 6s 16ms/step - loss: 0.1927 - acc: 0.9259 - val_loss: 0.3061 - val_acc: 0.8926\n",
      "Epoch 10/20\n",
      "391/391 [==============================] - 7s 17ms/step - loss: 0.1813 - acc: 0.9308 - val_loss: 0.3020 - val_acc: 0.8976\n",
      "Epoch 11/20\n",
      "391/391 [==============================] - 7s 17ms/step - loss: 0.1743 - acc: 0.9335 - val_loss: 0.3165 - val_acc: 0.8897\n",
      "Epoch 12/20\n",
      "391/391 [==============================] - 7s 18ms/step - loss: 0.1662 - acc: 0.9362 - val_loss: 0.3066 - val_acc: 0.8970\n",
      "Epoch 13/20\n",
      "391/391 [==============================] - 7s 17ms/step - loss: 0.1597 - acc: 0.9389 - val_loss: 0.3107 - val_acc: 0.8926\n",
      "Epoch 14/20\n",
      "391/391 [==============================] - 6s 16ms/step - loss: 0.1479 - acc: 0.9433 - val_loss: 0.3123 - val_acc: 0.8992\n",
      "Epoch 15/20\n",
      "391/391 [==============================] - 7s 17ms/step - loss: 0.1448 - acc: 0.9444 - val_loss: 0.3114 - val_acc: 0.9007\n",
      "Epoch 16/20\n",
      "391/391 [==============================] - 7s 17ms/step - loss: 0.1369 - acc: 0.9478 - val_loss: 0.3312 - val_acc: 0.8984\n",
      "Epoch 17/20\n",
      "391/391 [==============================] - 7s 17ms/step - loss: 0.1301 - acc: 0.9499 - val_loss: 0.3396 - val_acc: 0.8939\n",
      "Epoch 18/20\n",
      "391/391 [==============================] - 7s 17ms/step - loss: 0.1228 - acc: 0.9528 - val_loss: 0.3464 - val_acc: 0.8979\n",
      "Epoch 19/20\n",
      "391/391 [==============================] - 6s 16ms/step - loss: 0.1175 - acc: 0.9544 - val_loss: 0.3511 - val_acc: 0.8976\n",
      "Epoch 20/20\n",
      "391/391 [==============================] - 7s 17ms/step - loss: 0.1153 - acc: 0.9553 - val_loss: 0.3511 - val_acc: 0.9031\n"
     ]
    }
   ],
   "source": [
    "val = net.fit(partial_X,partial_y,epochs=20, batch_size=128, validation_data=(X_val, y_val))"
   ]
  },
  {
   "cell_type": "code",
   "execution_count": 96,
   "metadata": {},
   "outputs": [],
   "source": [
    "val_dict = val.history\n",
    "loss = val_dict['loss']\n",
    "val_loss = val_dict['val_loss']"
   ]
  },
  {
   "cell_type": "code",
   "execution_count": 97,
   "metadata": {},
   "outputs": [
    {
     "data": {
      "text/plain": [
       "<matplotlib.legend.Legend at 0x1b73a258c08>"
      ]
     },
     "execution_count": 97,
     "metadata": {},
     "output_type": "execute_result"
    },
    {
     "data": {
      "image/png": "[encoded data removed]",
      "text/plain": [
       "<Figure size 432x288 with 1 Axes>"
      ]
     },
     "metadata": {
      "needs_background": "light"
     },
     "output_type": "display_data"
    }
   ],
   "source": [
    "x = np.arange(0,len(loss))\n",
    "plt.plot(x,loss,'bo',label='E')\n",
    "plt.plot(x,val_loss,'ro',label='$E_v$')\n",
    "plt.legend()"
   ]
  },
  {
   "cell_type": "code",
   "execution_count": 98,
   "metadata": {},
   "outputs": [
    {
     "data": {
      "text/plain": [
       "[<matplotlib.lines.Line2D at 0x1b736a9dbc8>]"
      ]
     },
     "execution_count": 98,
     "metadata": {},
     "output_type": "execute_result"
    },
    {
     "data": {
      "image/png": "[encoded data removed]",
      "text/plain": [
       "<Figure size 432x288 with 1 Axes>"
      ]
     },
     "metadata": {
      "needs_background": "light"
     },
     "output_type": "display_data"
    }
   ],
   "source": [
    "acc = val_dict['acc']\n",
    "val_acc = val_dict['val_acc']\n",
    "plt.plot(x,acc,'bo',label='Accuracy')\n",
    "plt.plot(x,val_acc,'ro',label='A_v')"
   ]
  },
  {
   "cell_type": "code",
   "execution_count": 99,
   "metadata": {},
   "outputs": [],
   "source": [
    "model = models.Sequential()\n",
    "model.add(layers.Dense(512, activation='relu', input_shape=(28*28,))) \n",
    "model.add(layers.Dropout(0.5))  \n",
    "model.add(layers.Dense(512, activation='relu')) \n",
    "model.add(layers.Dropout(0.5))  \n",
    "model.add(layers.Dense(10, activation='softmax')) \n",
    "model.compile(optimizer='nadam',loss='categorical_crossentropy',metrics=['acc'])"
   ]
  },
  {
   "cell_type": "code",
   "execution_count": 100,
   "metadata": {},
   "outputs": [
    {
     "name": "stdout",
     "output_type": "stream",
     "text": [
      "Epoch 1/20\n",
      "391/391 [==============================] - 7s 18ms/step - loss: 0.6300 - acc: 0.7727 - val_loss: 0.4383 - val_acc: 0.8396\n",
      "Epoch 2/20\n",
      "391/391 [==============================] - 7s 18ms/step - loss: 0.4577 - acc: 0.8334 - val_loss: 0.3760 - val_acc: 0.8617\n",
      "Epoch 3/20\n",
      "391/391 [==============================] - 7s 19ms/step - loss: 0.4164 - acc: 0.8498 - val_loss: 0.3632 - val_acc: 0.8642\n",
      "Epoch 4/20\n",
      "391/391 [==============================] - 7s 19ms/step - loss: 0.3952 - acc: 0.8563 - val_loss: 0.3371 - val_acc: 0.8763\n",
      "Epoch 5/20\n",
      "391/391 [==============================] - 7s 17ms/step - loss: 0.3782 - acc: 0.8630 - val_loss: 0.3438 - val_acc: 0.8713\n",
      "Epoch 6/20\n",
      "391/391 [==============================] - 8s 20ms/step - loss: 0.3655 - acc: 0.8666 - val_loss: 0.3173 - val_acc: 0.8816\n",
      "Epoch 7/20\n",
      "391/391 [==============================] - 7s 18ms/step - loss: 0.3560 - acc: 0.8694 - val_loss: 0.3198 - val_acc: 0.8811\n",
      "Epoch 8/20\n",
      "391/391 [==============================] - 7s 18ms/step - loss: 0.3461 - acc: 0.8722 - val_loss: 0.3141 - val_acc: 0.8831\n",
      "Epoch 9/20\n",
      "391/391 [==============================] - 7s 18ms/step - loss: 0.3405 - acc: 0.8750 - val_loss: 0.3080 - val_acc: 0.8858\n",
      "Epoch 10/20\n",
      "391/391 [==============================] - 8s 21ms/step - loss: 0.3299 - acc: 0.8779 - val_loss: 0.3233 - val_acc: 0.8796\n",
      "Epoch 11/20\n",
      "391/391 [==============================] - 7s 19ms/step - loss: 0.3275 - acc: 0.8787 - val_loss: 0.3088 - val_acc: 0.8840\n",
      "Epoch 12/20\n",
      "391/391 [==============================] - 7s 19ms/step - loss: 0.3204 - acc: 0.8806 - val_loss: 0.3039 - val_acc: 0.8871\n",
      "Epoch 13/20\n",
      "391/391 [==============================] - 7s 19ms/step - loss: 0.3173 - acc: 0.8825 - val_loss: 0.3021 - val_acc: 0.8896\n",
      "Epoch 14/20\n",
      "391/391 [==============================] - 7s 19ms/step - loss: 0.3080 - acc: 0.8866 - val_loss: 0.3086 - val_acc: 0.8837\n",
      "Epoch 15/20\n",
      "391/391 [==============================] - 8s 19ms/step - loss: 0.3088 - acc: 0.8859 - val_loss: 0.2899 - val_acc: 0.8915\n",
      "Epoch 16/20\n",
      "391/391 [==============================] - 7s 19ms/step - loss: 0.3043 - acc: 0.8862 - val_loss: 0.3033 - val_acc: 0.8874\n",
      "Epoch 17/20\n",
      "391/391 [==============================] - 8s 19ms/step - loss: 0.2974 - acc: 0.8884 - val_loss: 0.2885 - val_acc: 0.8923\n",
      "Epoch 18/20\n",
      "391/391 [==============================] - 7s 19ms/step - loss: 0.2980 - acc: 0.8887 - val_loss: 0.2975 - val_acc: 0.8917\n",
      "Epoch 19/20\n",
      "391/391 [==============================] - 7s 19ms/step - loss: 0.2931 - acc: 0.8910 - val_loss: 0.2928 - val_acc: 0.8891\n",
      "Epoch 20/20\n",
      "391/391 [==============================] - 7s 19ms/step - loss: 0.2938 - acc: 0.8904 - val_loss: 0.2918 - val_acc: 0.8932\n"
     ]
    }
   ],
   "source": [
    "val2= model.fit(partial_X,partial_y,epochs=20, batch_size=128, validation_data=(X_val, y_val))"
   ]
  },
  {
   "cell_type": "code",
   "execution_count": 102,
   "metadata": {},
   "outputs": [
    {
     "data": {
      "text/plain": [
       "<matplotlib.legend.Legend at 0x1b73ae44908>"
      ]
     },
     "execution_count": 102,
     "metadata": {},
     "output_type": "execute_result"
    },
    {
     "data": {
      "image/png": "[encoded data removed]",
      "text/plain": [
       "<Figure size 432x288 with 1 Axes>"
      ]
     },
     "metadata": {
      "needs_background": "light"
     },
     "output_type": "display_data"
    }
   ],
   "source": [
    "val_dict = val2.history\n",
    "loss = val_dict['loss']\n",
    "val_loss = val_dict['val_loss']\n",
    "\n",
    "x = np.arange(0,len(loss))\n",
    "plt.plot(x,loss,'bo',label='E')\n",
    "plt.plot(x,val_loss,'ro',label='$E_v$')\n",
    "plt.legend()"
   ]
  },
  {
   "cell_type": "code",
   "execution_count": 103,
   "metadata": {},
   "outputs": [
    {
     "data": {
      "text/plain": [
       "[<matplotlib.lines.Line2D at 0x1b73c8aa188>]"
      ]
     },
     "execution_count": 103,
     "metadata": {},
     "output_type": "execute_result"
    },
    {
     "data": {
      "image/png": "[encoded data removed]",
      "text/plain": [
       "<Figure size 432x288 with 1 Axes>"
      ]
     },
     "metadata": {
      "needs_background": "light"
     },
     "output_type": "display_data"
    }
   ],
   "source": [
    "acc = val_dict['acc']\n",
    "val_acc = val_dict['val_acc']\n",
    "plt.plot(x,acc,'bo',label='Accuracy')\n",
    "plt.plot(x,val_acc,'ro',label='A_v')"
   ]
  },
  {
   "cell_type": "code",
   "execution_count": 104,
   "metadata": {},
   "outputs": [
    {
     "name": "stdout",
     "output_type": "stream",
     "text": [
      "313/313 [==============================] - 1s 3ms/step - loss: 0.4176 - acc: 0.8936\n"
     ]
    }
   ],
   "source": [
    "test_loss, test_acc = net.evaluate(X_test,y_test)"
   ]
  },
  {
   "cell_type": "code",
   "execution_count": 105,
   "metadata": {},
   "outputs": [
    {
     "name": "stdout",
     "output_type": "stream",
     "text": [
      "313/313 [==============================] - 1s 3ms/step - loss: 0.3256 - acc: 0.8812\n"
     ]
    }
   ],
   "source": [
    "test_loss, test_acc = model.evaluate(X_test,y_test)"
   ]
  },
  {
   "cell_type": "code",
   "execution_count": 106,
   "metadata": {},
   "outputs": [
    {
     "data": {
      "text/plain": [
       "<matplotlib.image.AxesImage at 0x1b7421c5bc8>"
      ]
     },
     "execution_count": 106,
     "metadata": {},
     "output_type": "execute_result"
    },
    {
     "data": {
      "image/png": "[encoded data removed]",
      "text/plain": [
       "<Figure size 432x288 with 1 Axes>"
      ]
     },
     "metadata": {
      "needs_background": "light"
     },
     "output_type": "display_data"
    }
   ],
   "source": [
    "plt.imshow(X1_test[120])"
   ]
  },
  {
   "cell_type": "code",
   "execution_count": 107,
   "metadata": {},
   "outputs": [
    {
     "data": {
      "text/plain": [
       "0"
      ]
     },
     "execution_count": 107,
     "metadata": {},
     "output_type": "execute_result"
    }
   ],
   "source": [
    "np.argmax(net.predict(X_test)[120])"
   ]
  },
  {
   "cell_type": "markdown",
   "metadata": {},
   "source": [
    "\n",
    "[Label/\tDescription]\n",
    "[0\tT-shirt/top]\n",
    "[1\tTrouser]\n",
    "[2\tPullover]\n",
    "[3\tDress]\n",
    "[4\tCoat]\n",
    "[5\tSandal]\n",
    "[6\tShirt]\n",
    "[7\tSneaker]\n",
    "[8\tBag]\n",
    "[9\tAnkle boot]"
   ]
  },
  {
   "cell_type": "markdown",
   "metadata": {},
   "source": [
    "결론 : layers.Dense를 3개로하여 진행 하였습니다. \n",
    "Dropout하면 Accuracy가  0.0124 낮아지고 loss 0.092 낮아진 것을 확인 할 수 있습니다. 이미지 파일을 확인하여 판별이 이상없음을 확인 하였습니다. \n",
    "MNIST 손글씨 보다 loss가 큰 것을 확인 할 수 있습니다. 이미지가 손글씨보다 복잡하여 이미지 분석에 차이가 있다고 생각되어집니다."
   ]
  },
  {
   "cell_type": "code",
   "execution_count": null,
   "metadata": {},
   "outputs": [],
   "source": []
  }
 ],
 "metadata": {
  "kernelspec": {
   "display_name": "Python 3",
   "language": "python",
   "name": "python3"
  },
  "language_info": {
   "codemirror_mode": {
    "name": "ipython",
    "version": 3
   },
   "file_extension": ".py",
   "mimetype": "text/x-python",
   "name": "python",
   "nbconvert_exporter": "python",
   "pygments_lexer": "ipython3",
   "version": "3.7.6"
  }
 },
 "nbformat": 4,
 "nbformat_minor": 4
}
